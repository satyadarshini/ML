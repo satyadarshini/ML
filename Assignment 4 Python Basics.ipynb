{
 "cells": [
  {
   "cell_type": "markdown",
   "metadata": {},
   "source": [
    "1.1 Write a Python Program(with class concepts) to find the area of the triangle using the below\n",
    "formula.\n",
    "area = (s*(s-a)*(s-b)*(s-c)) ** 0.5\n",
    "Function to take the length of the sides of triangle from user should be defined in the parent\n",
    "class and function to calculate the area should be defined in subclass."
   ]
  },
  {
   "cell_type": "code",
   "execution_count": 30,
   "metadata": {},
   "outputs": [
    {
     "name": "stdout",
     "output_type": "stream",
     "text": [
      "Enter value of a:5\n",
      "Enter value of b:6\n",
      "Enter value of c:7\n",
      "Area of Triangle is  14.696938456699069\n"
     ]
    }
   ],
   "source": [
    "a = int(input(\"Enter value of a:\"))\n",
    "b = int(input(\"Enter value of b:\"))\n",
    "c = int(input(\"Enter value of c:\"))\n",
    "\n",
    "class triangle():\n",
    "    def __init__(self,a,b,c):\n",
    "\n",
    "        self.a = a\n",
    "        self.b = b\n",
    "        self.c = c\n",
    "        \n",
    "class triangle_func(triangle):\n",
    "    def __init__(self,*args):\n",
    "        super(triangle_func, self).__init__(*args)\n",
    "    \n",
    "    def area(self):\n",
    "       s= (a + b + c)/2\n",
    "       area = (s*(s-a)*(s-b)*(s-c)) ** 0.5\n",
    "       return area\n",
    "        \n",
    "    \n",
    "t = triangle_func(a,b,c)\n",
    "print(\"Area of Triangle is \",t.area())"
   ]
  },
  {
   "cell_type": "markdown",
   "metadata": {},
   "source": [
    "1.2 Write a function filter_long_words() that takes a list of words and an integer n and returns\n",
    "the list of words that are longer than n."
   ]
  },
  {
   "cell_type": "code",
   "execution_count": 37,
   "metadata": {},
   "outputs": [
    {
     "name": "stdout",
     "output_type": "stream",
     "text": [
      "Enter the length:4\n",
      "Enter the stringIam so pretty and beautiful hence love me\n",
      "['pretty', 'beautiful', 'hence']\n"
     ]
    }
   ],
   "source": [
    "n = int(input(\"Enter the length:\"))\n",
    "str = input (\"Enter the string\")\n",
    "\n",
    "def filter_long_words(n, str):  \n",
    "    word_len = []  \n",
    "    txt = str.split(\" \")  \n",
    "    for x in txt:  \n",
    "        if len(x) > n:  \n",
    "            word_len.append(x)  \n",
    "    return word_len  \n",
    "\n",
    "print(filter_long_words(n,str))"
   ]
  },
  {
   "cell_type": "markdown",
   "metadata": {},
   "source": [
    "2.1 Write a Python program using function concept that maps list of words into a list of integers\n",
    "representing the lengths of the corresponding words.\n",
    "\n",
    "Hint: If a list [ ab,cde,erty] is passed on to the python function output should come as [2,3,4]\n",
    "\n",
    "Here 2,3 and 4 are the lengths of the words in the list."
   ]
  },
  {
   "cell_type": "code",
   "execution_count": 8,
   "metadata": {},
   "outputs": [
    {
     "name": "stdout",
     "output_type": "stream",
     "text": [
      "Enter the words(separate by comma) : Satya, Darshini, Sharma, Silly\n",
      "Length of words : [5, 8, 6, 5]\n"
     ]
    }
   ],
   "source": [
    "def map_wordsto_length(List):\n",
    "     return list(map(len, List))\n",
    "\n",
    "words_list=list(input(\"Enter the words(separate by comma) : \").split(\",\"))\n",
    "\n",
    "List=[x.strip() for x in words_list]\n",
    "\n",
    "words_length=map_wordsto_length(List)\n",
    "\n",
    "print(\"Length of words :\",words_length )"
   ]
  },
  {
   "cell_type": "markdown",
   "metadata": {},
   "source": [
    "2.2 Write a Python function which takes a character (i.e. a string of length 1) and returns True if\n",
    "it is a vowel, False otherwise."
   ]
  },
  {
   "cell_type": "code",
   "execution_count": 16,
   "metadata": {},
   "outputs": [
    {
     "name": "stdout",
     "output_type": "stream",
     "text": [
      "Enter single character: a\n",
      "Vowel?: True\n"
     ]
    }
   ],
   "source": [
    "def vowel_check(inputChar):\n",
    "    if(len(inputChar)==1):\n",
    "        vowel_list=['a','e','i','o','u']\n",
    "        if (inputChar.lower() in vowel_list):\n",
    "            return_value= True\n",
    "        else:\n",
    "            return_value= False\n",
    "    else:\n",
    "        return_value=\"Please enter single character only!\"        \n",
    "    return return_value\n",
    "\n",
    "input_value = input(\"Enter single character: \")\n",
    "#Function Execution\n",
    "output_value=vowel_check(input_value) \n",
    "#Output\n",
    "print(\"Vowel?:\",output_value)"
   ]
  }
 ],
 "metadata": {
  "kernelspec": {
   "display_name": "Python 3",
   "language": "python",
   "name": "python3"
  },
  "language_info": {
   "codemirror_mode": {
    "name": "ipython",
    "version": 3
   },
   "file_extension": ".py",
   "mimetype": "text/x-python",
   "name": "python",
   "nbconvert_exporter": "python",
   "pygments_lexer": "ipython3",
   "version": "3.7.3"
  }
 },
 "nbformat": 4,
 "nbformat_minor": 2
}
